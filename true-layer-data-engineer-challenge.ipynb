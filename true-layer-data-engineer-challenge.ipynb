{
 "cells": [
  {
   "cell_type": "markdown",
   "metadata": {},
   "source": [
    "# TrueLayer Data Engineer Challenge"
   ]
  },
  {
   "cell_type": "markdown",
   "metadata": {},
   "source": [
    "### Reading in movies metadata, calculating budget/revenue ratio and extracting required fields"
   ]
  },
  {
   "cell_type": "code",
   "execution_count": 1,
   "metadata": {},
   "outputs": [],
   "source": [
    "import pandas as pd\n",
    "import requests\n",
    "import subprocess"
   ]
  },
  {
   "cell_type": "code",
   "execution_count": 2,
   "metadata": {},
   "outputs": [
    {
     "name": "stderr",
     "output_type": "stream",
     "text": [
      "/Users/janzajac/.local/share/virtualenvs/TrueLayer-ifjXq_FT/lib/python3.8/site-packages/IPython/core/interactiveshell.py:3146: DtypeWarning: Columns (10) have mixed types.Specify dtype option on import or set low_memory=False.\n",
      "  has_raised = await self.run_ast_nodes(code_ast.body, cell_name,\n"
     ]
    }
   ],
   "source": [
    "df = pd.read_csv('movies_metadata.csv')\n",
    "\n",
    "# Converting budget column to numeric (float) from string and dropping all NaNs and 0.0 values. Prevents\n",
    "# infinity in ratio calculation\n",
    "df['budget'] = df['budget'].apply(pd.to_numeric, errors='coerce').dropna()\n",
    "df = df[(df['budget'] != 0.0)]\n",
    "df['ratio'] = df['revenue']/df['budget'].dropna()\n",
    "\n",
    "# Dropping not required columns and selecting top 1000 ratio rows\n",
    "cols_to_keep = ['title', 'budget', 'revenue', 'production_companies', 'vote_average', 'release_date', 'ratio']\n",
    "cols_to_drop = [col for col in df.columns if col not in cols_to_keep]\n",
    "df = df.drop(cols_to_drop, axis=1)\n",
    "\n",
    "df = df.sort_values('ratio',ascending = False).head(1000).reset_index(drop=True)"
   ]
  },
  {
   "cell_type": "code",
   "execution_count": 3,
   "metadata": {},
   "outputs": [
    {
     "data": {
      "text/html": [
       "<div>\n",
       "<style scoped>\n",
       "    .dataframe tbody tr th:only-of-type {\n",
       "        vertical-align: middle;\n",
       "    }\n",
       "\n",
       "    .dataframe tbody tr th {\n",
       "        vertical-align: top;\n",
       "    }\n",
       "\n",
       "    .dataframe thead th {\n",
       "        text-align: right;\n",
       "    }\n",
       "</style>\n",
       "<table border=\"1\" class=\"dataframe\">\n",
       "  <thead>\n",
       "    <tr style=\"text-align: right;\">\n",
       "      <th></th>\n",
       "      <th>budget</th>\n",
       "      <th>production_companies</th>\n",
       "      <th>release_date</th>\n",
       "      <th>revenue</th>\n",
       "      <th>title</th>\n",
       "      <th>vote_average</th>\n",
       "      <th>ratio</th>\n",
       "    </tr>\n",
       "  </thead>\n",
       "  <tbody>\n",
       "    <tr>\n",
       "      <th>0</th>\n",
       "      <td>1.0</td>\n",
       "      <td>[{'name': 'Twentieth Century Fox Film Corporat...</td>\n",
       "      <td>1987-11-06</td>\n",
       "      <td>12396383.0</td>\n",
       "      <td>Less Than Zero</td>\n",
       "      <td>6.1</td>\n",
       "      <td>1.239638e+07</td>\n",
       "    </tr>\n",
       "    <tr>\n",
       "      <th>1</th>\n",
       "      <td>1.0</td>\n",
       "      <td>[{'name': 'United Artists', 'id': 60}, {'name'...</td>\n",
       "      <td>1936-02-05</td>\n",
       "      <td>8500000.0</td>\n",
       "      <td>Modern Times</td>\n",
       "      <td>8.1</td>\n",
       "      <td>8.500000e+06</td>\n",
       "    </tr>\n",
       "    <tr>\n",
       "      <th>2</th>\n",
       "      <td>8.0</td>\n",
       "      <td>[{'name': 'Film It Suda', 'id': 5659}]</td>\n",
       "      <td>2005-08-04</td>\n",
       "      <td>33579813.0</td>\n",
       "      <td>Welcome to Dongmakgol</td>\n",
       "      <td>7.7</td>\n",
       "      <td>4.197477e+06</td>\n",
       "    </tr>\n",
       "    <tr>\n",
       "      <th>3</th>\n",
       "      <td>1.0</td>\n",
       "      <td>[]</td>\n",
       "      <td>2012-03-30</td>\n",
       "      <td>2755584.0</td>\n",
       "      <td>Aquí Entre Nos</td>\n",
       "      <td>6.0</td>\n",
       "      <td>2.755584e+06</td>\n",
       "    </tr>\n",
       "    <tr>\n",
       "      <th>4</th>\n",
       "      <td>113.0</td>\n",
       "      <td>[{'name': 'Columbia Pictures Corporation', 'id...</td>\n",
       "      <td>1986-06-18</td>\n",
       "      <td>115103979.0</td>\n",
       "      <td>The Karate Kid, Part II</td>\n",
       "      <td>5.9</td>\n",
       "      <td>1.018619e+06</td>\n",
       "    </tr>\n",
       "  </tbody>\n",
       "</table>\n",
       "</div>"
      ],
      "text/plain": [
       "   budget                               production_companies release_date  \\\n",
       "0     1.0  [{'name': 'Twentieth Century Fox Film Corporat...   1987-11-06   \n",
       "1     1.0  [{'name': 'United Artists', 'id': 60}, {'name'...   1936-02-05   \n",
       "2     8.0             [{'name': 'Film It Suda', 'id': 5659}]   2005-08-04   \n",
       "3     1.0                                                 []   2012-03-30   \n",
       "4   113.0  [{'name': 'Columbia Pictures Corporation', 'id...   1986-06-18   \n",
       "\n",
       "       revenue                    title  vote_average         ratio  \n",
       "0   12396383.0           Less Than Zero           6.1  1.239638e+07  \n",
       "1    8500000.0             Modern Times           8.1  8.500000e+06  \n",
       "2   33579813.0    Welcome to Dongmakgol           7.7  4.197477e+06  \n",
       "3    2755584.0           Aquí Entre Nos           6.0  2.755584e+06  \n",
       "4  115103979.0  The Karate Kid, Part II           5.9  1.018619e+06  "
      ]
     },
     "execution_count": 3,
     "metadata": {},
     "output_type": "execute_result"
    }
   ],
   "source": [
    "df.head()"
   ]
  },
  {
   "cell_type": "markdown",
   "metadata": {},
   "source": [
    "### Extracting title, url and abstract from wiki xml dump"
   ]
  },
  {
   "cell_type": "code",
   "execution_count": 4,
   "metadata": {},
   "outputs": [],
   "source": [
    "# taken from https://towardsdatascience.com/wikipedia-data-science-working-with-the-worlds-largest-encyclopedia-c08efbac5f5c\n",
    "import xml.sax\n",
    "\n",
    "\n",
    "class WikiXmlHandler(xml.sax.handler.ContentHandler):\n",
    "    \"\"\"Content handler for Wiki XML data using SAX\"\"\"\n",
    "    def __init__(self):\n",
    "        xml.sax.handler.ContentHandler.__init__(self)\n",
    "        self._buffer = None\n",
    "        self._values = {}\n",
    "        self._current_tag = None\n",
    "        self._content = {} # Dictionary where the movie name is key and url and abstract are values\n",
    "\n",
    "    def characters(self, content):\n",
    "        \"\"\"Characters between opening and closing tags\"\"\"\n",
    "        if self._current_tag:\n",
    "            self._buffer.append(content)\n",
    "\n",
    "    def startElement(self, name, attrs):\n",
    "        \"\"\"Opening tag of element\"\"\"\n",
    "        if name in ('title', 'url', 'abstract'):\n",
    "            self._current_tag = name\n",
    "            self._buffer = []\n",
    "\n",
    "    def endElement(self, name):\n",
    "        \"\"\"Closing tag of element\"\"\"\n",
    "        if name == self._current_tag:\n",
    "            self._values[name] = ' '.join(self._buffer)\n",
    "\n",
    "        if name == 'doc':\n",
    "            self._content[self._values['title'].strip('Wikipedia: ')] = {'url': self._values['url'], 'abstract': self._values['abstract']}\n"
   ]
  },
  {
   "cell_type": "code",
   "execution_count": 5,
   "metadata": {},
   "outputs": [],
   "source": [
    "# Parsing xml line by line and extracting required tags rather than reading file into memory\n",
    "\n",
    "data_path = 'enwiki-latest-abstract.xml'\n",
    "# Object for handling xml\n",
    "handler = WikiXmlHandler()\n",
    "# Parsing object\n",
    "parser = xml.sax.make_parser()\n",
    "parser.setContentHandler(handler)\n",
    "# Iteratively process file\n",
    "for line in subprocess.Popen(['cat'], \n",
    "                              stdin = open(data_path), \n",
    "                              stdout = subprocess.PIPE).stdout:\n",
    "    parser.feed(line)"
   ]
  },
  {
   "cell_type": "code",
   "execution_count": 6,
   "metadata": {},
   "outputs": [],
   "source": [
    "# Looping through titles in movies metadata dataframe and extracting url and abstract\n",
    "\n",
    "wiki_titles_found = []\n",
    "for title in df['title']:\n",
    "    try:\n",
    "        wiki_dict = {'title': title, 'wiki_url':handler._content[title]['url'], 'wiki_abstract':handler._content[title]['abstract']} \n",
    "        wiki_titles_found.append(wiki_dict)\n",
    "    except KeyError:\n",
    "        pass"
   ]
  },
  {
   "cell_type": "code",
   "execution_count": 7,
   "metadata": {},
   "outputs": [
    {
     "data": {
      "text/plain": [
       "598"
      ]
     },
     "execution_count": 7,
     "metadata": {},
     "output_type": "execute_result"
    }
   ],
   "source": [
    "len(wiki_titles_found)"
   ]
  },
  {
   "cell_type": "code",
   "execution_count": 8,
   "metadata": {},
   "outputs": [
    {
     "data": {
      "text/html": [
       "<div>\n",
       "<style scoped>\n",
       "    .dataframe tbody tr th:only-of-type {\n",
       "        vertical-align: middle;\n",
       "    }\n",
       "\n",
       "    .dataframe tbody tr th {\n",
       "        vertical-align: top;\n",
       "    }\n",
       "\n",
       "    .dataframe thead th {\n",
       "        text-align: right;\n",
       "    }\n",
       "</style>\n",
       "<table border=\"1\" class=\"dataframe\">\n",
       "  <thead>\n",
       "    <tr style=\"text-align: right;\">\n",
       "      <th></th>\n",
       "      <th>title</th>\n",
       "      <th>wiki_url</th>\n",
       "      <th>wiki_abstract</th>\n",
       "    </tr>\n",
       "  </thead>\n",
       "  <tbody>\n",
       "    <tr>\n",
       "      <th>0</th>\n",
       "      <td>Less Than Zero</td>\n",
       "      <td>https://en.wikipedia.org/wiki/Less_Than_Zero</td>\n",
       "      <td>Less Than Zero may refer to:</td>\n",
       "    </tr>\n",
       "    <tr>\n",
       "      <th>1</th>\n",
       "      <td>Modern Times</td>\n",
       "      <td>https://en.wikipedia.org/wiki/Modern_Times</td>\n",
       "      <td>Modern Times may refer to modern history.</td>\n",
       "    </tr>\n",
       "    <tr>\n",
       "      <th>2</th>\n",
       "      <td>Paranormal Activity</td>\n",
       "      <td>https://en.wikipedia.org/wiki/Paranormal_Activity</td>\n",
       "      <td>| writer         = Oren Peli</td>\n",
       "    </tr>\n",
       "    <tr>\n",
       "      <th>3</th>\n",
       "      <td>Tarnation</td>\n",
       "      <td>https://en.wikipedia.org/wiki/Tarnation</td>\n",
       "      <td>Tarnation may refer to:</td>\n",
       "    </tr>\n",
       "    <tr>\n",
       "      <th>4</th>\n",
       "      <td>The Blair Witch Project</td>\n",
       "      <td>https://en.wikipedia.org/wiki/The_Blair_Witch_...</td>\n",
       "      <td>| producers      =</td>\n",
       "    </tr>\n",
       "  </tbody>\n",
       "</table>\n",
       "</div>"
      ],
      "text/plain": [
       "                     title                                           wiki_url  \\\n",
       "0           Less Than Zero       https://en.wikipedia.org/wiki/Less_Than_Zero   \n",
       "1             Modern Times         https://en.wikipedia.org/wiki/Modern_Times   \n",
       "2      Paranormal Activity  https://en.wikipedia.org/wiki/Paranormal_Activity   \n",
       "3                Tarnation            https://en.wikipedia.org/wiki/Tarnation   \n",
       "4  The Blair Witch Project  https://en.wikipedia.org/wiki/The_Blair_Witch_...   \n",
       "\n",
       "                               wiki_abstract  \n",
       "0               Less Than Zero may refer to:  \n",
       "1  Modern Times may refer to modern history.  \n",
       "2               | writer         = Oren Peli  \n",
       "3                    Tarnation may refer to:  \n",
       "4                         | producers      =  "
      ]
     },
     "execution_count": 8,
     "metadata": {},
     "output_type": "execute_result"
    }
   ],
   "source": [
    "# Constructing df from wiki data, ready for join with initial dataframe\n",
    "\n",
    "wiki_df = pd.DataFrame(wiki_titles_found)\n",
    "wiki_df.head()"
   ]
  },
  {
   "cell_type": "code",
   "execution_count": 9,
   "metadata": {},
   "outputs": [
    {
     "data": {
      "text/html": [
       "<div>\n",
       "<style scoped>\n",
       "    .dataframe tbody tr th:only-of-type {\n",
       "        vertical-align: middle;\n",
       "    }\n",
       "\n",
       "    .dataframe tbody tr th {\n",
       "        vertical-align: top;\n",
       "    }\n",
       "\n",
       "    .dataframe thead th {\n",
       "        text-align: right;\n",
       "    }\n",
       "</style>\n",
       "<table border=\"1\" class=\"dataframe\">\n",
       "  <thead>\n",
       "    <tr style=\"text-align: right;\">\n",
       "      <th></th>\n",
       "      <th>budget</th>\n",
       "      <th>production_companies</th>\n",
       "      <th>release_date</th>\n",
       "      <th>revenue</th>\n",
       "      <th>title</th>\n",
       "      <th>vote_average</th>\n",
       "      <th>ratio</th>\n",
       "      <th>wiki_url</th>\n",
       "      <th>wiki_abstract</th>\n",
       "    </tr>\n",
       "  </thead>\n",
       "  <tbody>\n",
       "    <tr>\n",
       "      <th>0</th>\n",
       "      <td>1.0</td>\n",
       "      <td>[{'name': 'Twentieth Century Fox Film Corporat...</td>\n",
       "      <td>1987-11-06</td>\n",
       "      <td>12396383.0</td>\n",
       "      <td>Less Than Zero</td>\n",
       "      <td>6.1</td>\n",
       "      <td>1.239638e+07</td>\n",
       "      <td>https://en.wikipedia.org/wiki/Less_Than_Zero</td>\n",
       "      <td>Less Than Zero may refer to:</td>\n",
       "    </tr>\n",
       "    <tr>\n",
       "      <th>1</th>\n",
       "      <td>1.0</td>\n",
       "      <td>[{'name': 'United Artists', 'id': 60}, {'name'...</td>\n",
       "      <td>1936-02-05</td>\n",
       "      <td>8500000.0</td>\n",
       "      <td>Modern Times</td>\n",
       "      <td>8.1</td>\n",
       "      <td>8.500000e+06</td>\n",
       "      <td>https://en.wikipedia.org/wiki/Modern_Times</td>\n",
       "      <td>Modern Times may refer to modern history.</td>\n",
       "    </tr>\n",
       "    <tr>\n",
       "      <th>2</th>\n",
       "      <td>8.0</td>\n",
       "      <td>[{'name': 'Film It Suda', 'id': 5659}]</td>\n",
       "      <td>2005-08-04</td>\n",
       "      <td>33579813.0</td>\n",
       "      <td>Welcome to Dongmakgol</td>\n",
       "      <td>7.7</td>\n",
       "      <td>4.197477e+06</td>\n",
       "      <td>NaN</td>\n",
       "      <td>NaN</td>\n",
       "    </tr>\n",
       "    <tr>\n",
       "      <th>3</th>\n",
       "      <td>1.0</td>\n",
       "      <td>[]</td>\n",
       "      <td>2012-03-30</td>\n",
       "      <td>2755584.0</td>\n",
       "      <td>Aquí Entre Nos</td>\n",
       "      <td>6.0</td>\n",
       "      <td>2.755584e+06</td>\n",
       "      <td>NaN</td>\n",
       "      <td>NaN</td>\n",
       "    </tr>\n",
       "    <tr>\n",
       "      <th>4</th>\n",
       "      <td>113.0</td>\n",
       "      <td>[{'name': 'Columbia Pictures Corporation', 'id...</td>\n",
       "      <td>1986-06-18</td>\n",
       "      <td>115103979.0</td>\n",
       "      <td>The Karate Kid, Part II</td>\n",
       "      <td>5.9</td>\n",
       "      <td>1.018619e+06</td>\n",
       "      <td>NaN</td>\n",
       "      <td>NaN</td>\n",
       "    </tr>\n",
       "  </tbody>\n",
       "</table>\n",
       "</div>"
      ],
      "text/plain": [
       "   budget                               production_companies release_date  \\\n",
       "0     1.0  [{'name': 'Twentieth Century Fox Film Corporat...   1987-11-06   \n",
       "1     1.0  [{'name': 'United Artists', 'id': 60}, {'name'...   1936-02-05   \n",
       "2     8.0             [{'name': 'Film It Suda', 'id': 5659}]   2005-08-04   \n",
       "3     1.0                                                 []   2012-03-30   \n",
       "4   113.0  [{'name': 'Columbia Pictures Corporation', 'id...   1986-06-18   \n",
       "\n",
       "       revenue                    title  vote_average         ratio  \\\n",
       "0   12396383.0           Less Than Zero           6.1  1.239638e+07   \n",
       "1    8500000.0             Modern Times           8.1  8.500000e+06   \n",
       "2   33579813.0    Welcome to Dongmakgol           7.7  4.197477e+06   \n",
       "3    2755584.0           Aquí Entre Nos           6.0  2.755584e+06   \n",
       "4  115103979.0  The Karate Kid, Part II           5.9  1.018619e+06   \n",
       "\n",
       "                                       wiki_url  \\\n",
       "0  https://en.wikipedia.org/wiki/Less_Than_Zero   \n",
       "1    https://en.wikipedia.org/wiki/Modern_Times   \n",
       "2                                           NaN   \n",
       "3                                           NaN   \n",
       "4                                           NaN   \n",
       "\n",
       "                               wiki_abstract  \n",
       "0               Less Than Zero may refer to:  \n",
       "1  Modern Times may refer to modern history.  \n",
       "2                                        NaN  \n",
       "3                                        NaN  \n",
       "4                                        NaN  "
      ]
     },
     "execution_count": 9,
     "metadata": {},
     "output_type": "execute_result"
    }
   ],
   "source": [
    "# Joining the two dataframes together, ready for insert into Postgres database table\n",
    "full_df = pd.merge(left=df, right=wiki_df, how='left', left_on='title', right_on='title')\n",
    "full_df.head()"
   ]
  },
  {
   "cell_type": "code",
   "execution_count": 10,
   "metadata": {},
   "outputs": [],
   "source": [
    "# Initialising db and inserting dataframe\n",
    "from sqlalchemy import create_engine\n",
    "\n",
    "# Settings as shown in docker-compose.yml\n",
    "engine = create_engine('postgresql://postgres:c@localhost:5432/my_database')\n",
    "con = engine.connect()"
   ]
  },
  {
   "cell_type": "code",
   "execution_count": 11,
   "metadata": {},
   "outputs": [],
   "source": [
    "table_name = 'TrueLayerDataEngineerChallenge'\n",
    "full_df.to_sql(table_name, con, index=False)"
   ]
  },
  {
   "cell_type": "code",
   "execution_count": 12,
   "metadata": {},
   "outputs": [
    {
     "name": "stdout",
     "output_type": "stream",
     "text": [
      "['TrueLayerDataEngineerChallenge']\n"
     ]
    }
   ],
   "source": [
    "print(engine.table_names())"
   ]
  },
  {
   "cell_type": "code",
   "execution_count": null,
   "metadata": {},
   "outputs": [],
   "source": []
  }
 ],
 "metadata": {
  "kernelspec": {
   "display_name": "Python 3",
   "language": "python",
   "name": "python3"
  },
  "language_info": {
   "codemirror_mode": {
    "name": "ipython",
    "version": 3
   },
   "file_extension": ".py",
   "mimetype": "text/x-python",
   "name": "python",
   "nbconvert_exporter": "python",
   "pygments_lexer": "ipython3",
   "version": "3.8.6"
  }
 },
 "nbformat": 4,
 "nbformat_minor": 4
}
